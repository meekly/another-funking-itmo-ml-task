{
 "cells": [
  {
   "cell_type": "code",
   "execution_count": 2,
   "metadata": {},
   "outputs": [],
   "source": [
    "# 2.2 ITMO ML (Candy-data)"
   ]
  },
  {
   "cell_type": "code",
   "execution_count": 3,
   "metadata": {},
   "outputs": [],
   "source": [
    "import pandas as pd\n",
    "data = pd.read_csv('web-traffic.csv', delimiter=';')"
   ]
  },
  {
   "cell_type": "code",
   "execution_count": 4,
   "metadata": {},
   "outputs": [
    {
     "data": {
      "text/html": [
       "<div>\n",
       "<style scoped>\n",
       "    .dataframe tbody tr th:only-of-type {\n",
       "        vertical-align: middle;\n",
       "    }\n",
       "\n",
       "    .dataframe tbody tr th {\n",
       "        vertical-align: top;\n",
       "    }\n",
       "\n",
       "    .dataframe thead th {\n",
       "        text-align: right;\n",
       "    }\n",
       "</style>\n",
       "<table border=\"1\" class=\"dataframe\">\n",
       "  <thead>\n",
       "    <tr style=\"text-align: right;\">\n",
       "      <th></th>\n",
       "      <th>date</th>\n",
       "      <th>traffic-source</th>\n",
       "      <th>traffic-details</th>\n",
       "      <th>users</th>\n",
       "      <th>visits</th>\n",
       "      <th>pageviews</th>\n",
       "      <th>bounceRate</th>\n",
       "      <th>pageDepth</th>\n",
       "      <th>avgVisitDurationSeconds</th>\n",
       "    </tr>\n",
       "  </thead>\n",
       "  <tbody>\n",
       "    <tr>\n",
       "      <th>0</th>\n",
       "      <td>2019-10-02</td>\n",
       "      <td>Internal traffic</td>\n",
       "      <td>NaN</td>\n",
       "      <td>7</td>\n",
       "      <td>8</td>\n",
       "      <td>40</td>\n",
       "      <td>0</td>\n",
       "      <td>5</td>\n",
       "      <td>684,375</td>\n",
       "    </tr>\n",
       "    <tr>\n",
       "      <th>1</th>\n",
       "      <td>2019-10-02</td>\n",
       "      <td>Internal traffic</td>\n",
       "      <td>NaN</td>\n",
       "      <td>4</td>\n",
       "      <td>5</td>\n",
       "      <td>9</td>\n",
       "      <td>0</td>\n",
       "      <td>1,8</td>\n",
       "      <td>29,8</td>\n",
       "    </tr>\n",
       "    <tr>\n",
       "      <th>2</th>\n",
       "      <td>2019-10-02</td>\n",
       "      <td>Direct traffic</td>\n",
       "      <td>NaN</td>\n",
       "      <td>14</td>\n",
       "      <td>14</td>\n",
       "      <td>64</td>\n",
       "      <td>0</td>\n",
       "      <td>4,57142857</td>\n",
       "      <td>560,7142857</td>\n",
       "    </tr>\n",
       "    <tr>\n",
       "      <th>3</th>\n",
       "      <td>2019-10-02</td>\n",
       "      <td>Direct traffic</td>\n",
       "      <td>NaN</td>\n",
       "      <td>3</td>\n",
       "      <td>3</td>\n",
       "      <td>10</td>\n",
       "      <td>0</td>\n",
       "      <td>3,33333333</td>\n",
       "      <td>55,33333333</td>\n",
       "    </tr>\n",
       "    <tr>\n",
       "      <th>4</th>\n",
       "      <td>2019-10-02</td>\n",
       "      <td>Direct traffic</td>\n",
       "      <td>NaN</td>\n",
       "      <td>14</td>\n",
       "      <td>17</td>\n",
       "      <td>70</td>\n",
       "      <td>11,76470588</td>\n",
       "      <td>4,11764706</td>\n",
       "      <td>288,8235294</td>\n",
       "    </tr>\n",
       "    <tr>\n",
       "      <th>...</th>\n",
       "      <td>...</td>\n",
       "      <td>...</td>\n",
       "      <td>...</td>\n",
       "      <td>...</td>\n",
       "      <td>...</td>\n",
       "      <td>...</td>\n",
       "      <td>...</td>\n",
       "      <td>...</td>\n",
       "      <td>...</td>\n",
       "    </tr>\n",
       "    <tr>\n",
       "      <th>6493</th>\n",
       "      <td>2020-09-30</td>\n",
       "      <td>Search engine traffic</td>\n",
       "      <td>Google</td>\n",
       "      <td>14</td>\n",
       "      <td>16</td>\n",
       "      <td>50</td>\n",
       "      <td>25</td>\n",
       "      <td>3,125</td>\n",
       "      <td>130,625</td>\n",
       "    </tr>\n",
       "    <tr>\n",
       "      <th>6494</th>\n",
       "      <td>2020-09-30</td>\n",
       "      <td>Social network traffic</td>\n",
       "      <td>VKontakte</td>\n",
       "      <td>4</td>\n",
       "      <td>6</td>\n",
       "      <td>11</td>\n",
       "      <td>0</td>\n",
       "      <td>1,83333333</td>\n",
       "      <td>51,66666667</td>\n",
       "    </tr>\n",
       "    <tr>\n",
       "      <th>6495</th>\n",
       "      <td>2020-09-30</td>\n",
       "      <td>Social network traffic</td>\n",
       "      <td>VKontakte</td>\n",
       "      <td>3</td>\n",
       "      <td>5</td>\n",
       "      <td>13</td>\n",
       "      <td>20</td>\n",
       "      <td>2,6</td>\n",
       "      <td>302,6</td>\n",
       "    </tr>\n",
       "    <tr>\n",
       "      <th>6496</th>\n",
       "      <td>2020-09-30</td>\n",
       "      <td>Social network traffic</td>\n",
       "      <td>VKontakte</td>\n",
       "      <td>3</td>\n",
       "      <td>3</td>\n",
       "      <td>8</td>\n",
       "      <td>0</td>\n",
       "      <td>2,66666667</td>\n",
       "      <td>171,3333333</td>\n",
       "    </tr>\n",
       "    <tr>\n",
       "      <th>6497</th>\n",
       "      <td>2020-09-30</td>\n",
       "      <td>Social network traffic</td>\n",
       "      <td>Moi Mir@Mail.ru</td>\n",
       "      <td>1</td>\n",
       "      <td>1</td>\n",
       "      <td>1</td>\n",
       "      <td>0</td>\n",
       "      <td>1</td>\n",
       "      <td>67</td>\n",
       "    </tr>\n",
       "  </tbody>\n",
       "</table>\n",
       "<p>6498 rows × 9 columns</p>\n",
       "</div>"
      ],
      "text/plain": [
       "            date          traffic-source  traffic-details  users  visits  \\\n",
       "0     2019-10-02        Internal traffic              NaN      7       8   \n",
       "1     2019-10-02        Internal traffic              NaN      4       5   \n",
       "2     2019-10-02          Direct traffic              NaN     14      14   \n",
       "3     2019-10-02          Direct traffic              NaN      3       3   \n",
       "4     2019-10-02          Direct traffic              NaN     14      17   \n",
       "...          ...                     ...              ...    ...     ...   \n",
       "6493  2020-09-30   Search engine traffic           Google     14      16   \n",
       "6494  2020-09-30  Social network traffic        VKontakte      4       6   \n",
       "6495  2020-09-30  Social network traffic        VKontakte      3       5   \n",
       "6496  2020-09-30  Social network traffic        VKontakte      3       3   \n",
       "6497  2020-09-30  Social network traffic  Moi Mir@Mail.ru      1       1   \n",
       "\n",
       "      pageviews   bounceRate   pageDepth avgVisitDurationSeconds  \n",
       "0            40            0           5                 684,375  \n",
       "1             9            0         1,8                    29,8  \n",
       "2            64            0  4,57142857             560,7142857  \n",
       "3            10            0  3,33333333             55,33333333  \n",
       "4            70  11,76470588  4,11764706             288,8235294  \n",
       "...         ...          ...         ...                     ...  \n",
       "6493         50           25       3,125                 130,625  \n",
       "6494         11            0  1,83333333             51,66666667  \n",
       "6495         13           20         2,6                   302,6  \n",
       "6496          8            0  2,66666667             171,3333333  \n",
       "6497          1            0           1                      67  \n",
       "\n",
       "[6498 rows x 9 columns]"
      ]
     },
     "execution_count": 4,
     "metadata": {},
     "output_type": "execute_result"
    }
   ],
   "source": [
    "data"
   ]
  },
  {
   "cell_type": "code",
   "execution_count": 24,
   "metadata": {},
   "outputs": [
    {
     "data": {
      "image/png": "[encoded data removed]",
      "text/plain": [
       "<Figure size 432x288 with 1 Axes>"
      ]
     },
     "metadata": {
      "needs_background": "light"
     },
     "output_type": "display_data"
    }
   ],
   "source": [
    "from matplotlib import pyplot as plt\n",
    "mask = data['date'] < '2020-01-01'\n",
    "\n",
    "X = pd.to_datetime(data.loc[mask]['date'])\n",
    "Y = data.loc[mask]['visits']\n",
    "\n",
    "_, ax = plt.subplots()\n",
    "ax.scatter(X, Y, s = 7, color = 'r', alpha = 0.75)\n",
    "plt.show()"
   ]
  },
  {
   "cell_type": "code",
   "execution_count": 39,
   "metadata": {},
   "outputs": [
    {
     "data": {
      "image/png": "[encoded data removed]",
      "text/plain": [
       "<Figure size 432x288 with 1 Axes>"
      ]
     },
     "metadata": {
      "needs_background": "light"
     },
     "output_type": "display_data"
    }
   ],
   "source": [
    " _, ax = plt.subplots()\n",
    "mask = (data['date'] > '2019-10-2') & (data['date'] < '2020-09-30')\n",
    "X = pd.to_datetime(data.loc[mask]['date'])\n",
    "Y = data.loc[mask]['pageviews']\n",
    "\n",
    "width = 12\n",
    "ax.bar(X, data.loc[mask]['pageviews'], color = '#539caf', align = 'edge', width = width)\n",
    "ax.bar(X, data.loc[mask]['visits'], color = '#ff0000', align = 'edge', width = width)\n",
    "ax.bar(X, data.loc[mask]['users'], color = '#44eded', align = 'edge', width = width)\n",
    "plt.show()"
   ]
  },
  {
   "cell_type": "code",
   "execution_count": null,
   "metadata": {},
   "outputs": [],
   "source": [
    "from sklearn.linear_model import LinearRegression\n",
    "print(data.loc['Milky Way'])\n",
    "print(data.loc['Mr Good Bar'])\n",
    "\n",
    "train_data = data.drop(['Milky Way', 'Mr Good Bar'])\n",
    "X = pd.DataFrame(train_data.drop(['winpercent', 'Y'], axis=1))\n",
    "y = pd.DataFrame(train_data['winpercent'])"
   ]
  },
  {
   "cell_type": "code",
   "execution_count": null,
   "metadata": {},
   "outputs": [],
   "source": [
    "X\n",
    "y\n",
    "reg = LinearRegression().fit(X, y)"
   ]
  },
  {
   "cell_type": "code",
   "execution_count": null,
   "metadata": {},
   "outputs": [],
   "source": [
    "print('Milky Way')\n",
    "reg.predict([[1, 0, 1, 0, 1, 0, 0, 1, 0, 0.604000, 0.651000]])"
   ]
  },
  {
   "cell_type": "code",
   "execution_count": null,
   "metadata": {},
   "outputs": [],
   "source": [
    "print('Mr Good Bar')\n",
    "reg.predict([[1, 0, 0, 1, 0, 0, 0, 1, 0, 0.313000, 0.918000]])"
   ]
  },
  {
   "cell_type": "code",
   "execution_count": null,
   "metadata": {},
   "outputs": [],
   "source": [
    "print('Last answer')\n",
    "reg.predict([[0,1,0,1,0,1,1,0,0,0.93,0.635]])"
   ]
  },
  {
   "cell_type": "code",
   "execution_count": null,
   "metadata": {},
   "outputs": [],
   "source": []
  }
 ],
 "metadata": {
  "kernelspec": {
   "display_name": "Python 3",
   "language": "python",
   "name": "python3"
  },
  "language_info": {
   "codemirror_mode": {
    "name": "ipython",
    "version": 3
   },
   "file_extension": ".py",
   "mimetype": "text/x-python",
   "name": "python",
   "nbconvert_exporter": "python",
   "pygments_lexer": "ipython3",
   "version": "3.7.7"
  }
 },
 "nbformat": 4,
 "nbformat_minor": 2
}
